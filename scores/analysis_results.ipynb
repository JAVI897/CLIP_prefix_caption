{
 "cells": [
  {
   "cell_type": "markdown",
   "metadata": {},
   "source": [
    "### Libraries"
   ]
  },
  {
   "cell_type": "code",
   "execution_count": 1,
   "metadata": {
    "ExecuteTime": {
     "end_time": "2021-12-26T18:01:44.068158Z",
     "start_time": "2021-12-26T18:01:42.733341Z"
    }
   },
   "outputs": [],
   "source": [
    "import pandas as pd"
   ]
  },
  {
   "cell_type": "markdown",
   "metadata": {},
   "source": [
    "### Results"
   ]
  },
  {
   "cell_type": "code",
   "execution_count": 23,
   "metadata": {
    "ExecuteTime": {
     "end_time": "2021-12-26T19:36:41.641547Z",
     "start_time": "2021-12-26T19:36:41.593198Z"
    }
   },
   "outputs": [],
   "source": [
    "vgg = pd.read_csv('scores_karpathy_test_predictions_VGG_512.csv')\n",
    "vgg['model'] = 'VGG + Transformer'\n",
    "vgg['beam_size'] = None\n",
    "vgg['similarity'] = None\n",
    "\n",
    "efficientnet = pd.read_csv('scores_karpathy_test_predictions_EfficientNet_512.csv')\n",
    "efficientnet['model'] = 'EfficientNet + Transformer'\n",
    "efficientnet['beam_size'] = None\n",
    "efficientnet['similarity'] = None\n",
    "\n",
    "resnet = pd.read_csv('scores_karpathy_test_predictions_ResNet_512.csv')\n",
    "resnet['model'] = 'ResNet + Transformer'\n",
    "resnet['beam_size'] = None\n",
    "resnet['similarity'] = None\n",
    "\n",
    "no_clips = pd.read_csv('scores_karpathy_test_predictions_max_sim_clip_False_beam_size_5_similarity_clip_cos.csv')\n",
    "no_clips['model'] = 'Mapping Network original'\n",
    "no_clips['beam_size'] = None\n",
    "no_clips['similarity'] = None\n",
    "\n",
    "clips_beam_5 = pd.read_csv('scores_karpathy_test_predictions_max_sim_clip_True_beam_size_5_similarity_clip_cos.csv')\n",
    "clips_beam_5['model'] = 'Mapping Network max similarity 1'\n",
    "clips_beam_5['beam_size'] = 5\n",
    "clips_beam_5['similarity'] = 'cosine'\n",
    "\n",
    "clips_beam_10 = pd.read_csv('scores_karpathy_test_predictions_max_sim_clip_True_beam_size_10_similarity_clip_cos.csv')\n",
    "clips_beam_10['model'] = 'Mapping Network max similarity 2'\n",
    "clips_beam_10['beam_size'] = 10\n",
    "clips_beam_10['similarity'] = 'cosine'\n",
    "\n",
    "clips_beam_15 = pd.read_csv('scores_karpathy_test_predictions_max_sim_clip_True_beam_size_15_similarity_clip_cos.csv')\n",
    "clips_beam_15['model'] = 'Mapping Network max similarity 3'\n",
    "clips_beam_15['beam_size'] = 15\n",
    "clips_beam_15['similarity'] = 'cosine'\n",
    "\n",
    "clips_beam_20 = pd.read_csv('scores_karpathy_test_predictions_max_sim_clip_True_beam_size_20_similarity_clip_cos.csv')\n",
    "clips_beam_20['model'] = 'Mapping Network max similarity 4'\n",
    "clips_beam_20['beam_size'] = 20\n",
    "clips_beam_20['similarity'] = 'cosine'"
   ]
  },
  {
   "cell_type": "code",
   "execution_count": 24,
   "metadata": {
    "ExecuteTime": {
     "end_time": "2021-12-26T19:36:54.849581Z",
     "start_time": "2021-12-26T19:36:54.811309Z"
    }
   },
   "outputs": [
    {
     "data": {
      "text/html": [
       "<div>\n",
       "<style scoped>\n",
       "    .dataframe tbody tr th:only-of-type {\n",
       "        vertical-align: middle;\n",
       "    }\n",
       "\n",
       "    .dataframe tbody tr th {\n",
       "        vertical-align: top;\n",
       "    }\n",
       "\n",
       "    .dataframe thead th {\n",
       "        text-align: right;\n",
       "    }\n",
       "</style>\n",
       "<table border=\"1\" class=\"dataframe\">\n",
       "  <thead>\n",
       "    <tr style=\"text-align: right;\">\n",
       "      <th></th>\n",
       "      <th>bleu_1</th>\n",
       "      <th>bleu_2</th>\n",
       "      <th>bleu_3</th>\n",
       "      <th>bleu_4</th>\n",
       "      <th>BLEU_comb</th>\n",
       "      <th>METEOR</th>\n",
       "      <th>ROUGE_L</th>\n",
       "      <th>CLIPScore</th>\n",
       "      <th>REFCLIP_SCORE</th>\n",
       "      <th>model</th>\n",
       "      <th>beam_size</th>\n",
       "      <th>similarity</th>\n",
       "    </tr>\n",
       "  </thead>\n",
       "  <tbody>\n",
       "    <tr>\n",
       "      <th>0</th>\n",
       "      <td>58.53</td>\n",
       "      <td>28.27</td>\n",
       "      <td>12.13</td>\n",
       "      <td>5.54</td>\n",
       "      <td>9.37</td>\n",
       "      <td>0.383</td>\n",
       "      <td>0.334</td>\n",
       "      <td>0.641</td>\n",
       "      <td>0.707</td>\n",
       "      <td>VGG + Transformer</td>\n",
       "      <td>None</td>\n",
       "      <td>None</td>\n",
       "    </tr>\n",
       "    <tr>\n",
       "      <th>0</th>\n",
       "      <td>62.01</td>\n",
       "      <td>31.66</td>\n",
       "      <td>14.05</td>\n",
       "      <td>6.43</td>\n",
       "      <td>10.83</td>\n",
       "      <td>0.411</td>\n",
       "      <td>0.355</td>\n",
       "      <td>0.683</td>\n",
       "      <td>0.743</td>\n",
       "      <td>EfficientNet + Transformer</td>\n",
       "      <td>None</td>\n",
       "      <td>None</td>\n",
       "    </tr>\n",
       "    <tr>\n",
       "      <th>0</th>\n",
       "      <td>59.92</td>\n",
       "      <td>29.84</td>\n",
       "      <td>12.87</td>\n",
       "      <td>5.71</td>\n",
       "      <td>9.77</td>\n",
       "      <td>0.397</td>\n",
       "      <td>0.342</td>\n",
       "      <td>0.660</td>\n",
       "      <td>0.722</td>\n",
       "      <td>ResNet + Transformer</td>\n",
       "      <td>None</td>\n",
       "      <td>None</td>\n",
       "    </tr>\n",
       "    <tr>\n",
       "      <th>0</th>\n",
       "      <td>71.93</td>\n",
       "      <td>38.73</td>\n",
       "      <td>20.17</td>\n",
       "      <td>10.63</td>\n",
       "      <td>18.45</td>\n",
       "      <td>0.514</td>\n",
       "      <td>0.370</td>\n",
       "      <td>0.755</td>\n",
       "      <td>0.797</td>\n",
       "      <td>Mapping Network original</td>\n",
       "      <td>None</td>\n",
       "      <td>None</td>\n",
       "    </tr>\n",
       "    <tr>\n",
       "      <th>0</th>\n",
       "      <td>71.52</td>\n",
       "      <td>37.83</td>\n",
       "      <td>19.16</td>\n",
       "      <td>9.61</td>\n",
       "      <td>17.35</td>\n",
       "      <td>0.512</td>\n",
       "      <td>0.370</td>\n",
       "      <td>0.786</td>\n",
       "      <td>0.816</td>\n",
       "      <td>Mapping Network max similarity 1</td>\n",
       "      <td>5</td>\n",
       "      <td>cosine</td>\n",
       "    </tr>\n",
       "    <tr>\n",
       "      <th>0</th>\n",
       "      <td>67.72</td>\n",
       "      <td>35.69</td>\n",
       "      <td>17.75</td>\n",
       "      <td>8.73</td>\n",
       "      <td>15.94</td>\n",
       "      <td>0.500</td>\n",
       "      <td>0.359</td>\n",
       "      <td>0.791</td>\n",
       "      <td>0.816</td>\n",
       "      <td>Mapping Network max similarity 2</td>\n",
       "      <td>10</td>\n",
       "      <td>cosine</td>\n",
       "    </tr>\n",
       "    <tr>\n",
       "      <th>0</th>\n",
       "      <td>64.52</td>\n",
       "      <td>33.75</td>\n",
       "      <td>16.48</td>\n",
       "      <td>8.00</td>\n",
       "      <td>14.73</td>\n",
       "      <td>0.492</td>\n",
       "      <td>0.349</td>\n",
       "      <td>0.790</td>\n",
       "      <td>0.815</td>\n",
       "      <td>Mapping Network max similarity 3</td>\n",
       "      <td>15</td>\n",
       "      <td>cosine</td>\n",
       "    </tr>\n",
       "    <tr>\n",
       "      <th>0</th>\n",
       "      <td>61.79</td>\n",
       "      <td>32.18</td>\n",
       "      <td>15.78</td>\n",
       "      <td>7.64</td>\n",
       "      <td>14.21</td>\n",
       "      <td>0.483</td>\n",
       "      <td>0.340</td>\n",
       "      <td>0.788</td>\n",
       "      <td>0.813</td>\n",
       "      <td>Mapping Network max similarity 4</td>\n",
       "      <td>20</td>\n",
       "      <td>cosine</td>\n",
       "    </tr>\n",
       "  </tbody>\n",
       "</table>\n",
       "</div>"
      ],
      "text/plain": [
       "   bleu_1  bleu_2  bleu_3  bleu_4  BLEU_comb  METEOR  ROUGE_L  CLIPScore  \\\n",
       "0   58.53   28.27   12.13    5.54       9.37   0.383    0.334      0.641   \n",
       "0   62.01   31.66   14.05    6.43      10.83   0.411    0.355      0.683   \n",
       "0   59.92   29.84   12.87    5.71       9.77   0.397    0.342      0.660   \n",
       "0   71.93   38.73   20.17   10.63      18.45   0.514    0.370      0.755   \n",
       "0   71.52   37.83   19.16    9.61      17.35   0.512    0.370      0.786   \n",
       "0   67.72   35.69   17.75    8.73      15.94   0.500    0.359      0.791   \n",
       "0   64.52   33.75   16.48    8.00      14.73   0.492    0.349      0.790   \n",
       "0   61.79   32.18   15.78    7.64      14.21   0.483    0.340      0.788   \n",
       "\n",
       "   REFCLIP_SCORE                             model beam_size similarity  \n",
       "0          0.707                 VGG + Transformer      None       None  \n",
       "0          0.743        EfficientNet + Transformer      None       None  \n",
       "0          0.722              ResNet + Transformer      None       None  \n",
       "0          0.797          Mapping Network original      None       None  \n",
       "0          0.816  Mapping Network max similarity 1         5     cosine  \n",
       "0          0.816  Mapping Network max similarity 2        10     cosine  \n",
       "0          0.815  Mapping Network max similarity 3        15     cosine  \n",
       "0          0.813  Mapping Network max similarity 4        20     cosine  "
      ]
     },
     "execution_count": 24,
     "metadata": {},
     "output_type": "execute_result"
    }
   ],
   "source": [
    "scores_table = pd.concat([vgg, efficientnet, resnet, no_clips, clips_beam_5, clips_beam_10, clips_beam_15, clips_beam_20])\n",
    "scores_table = scores_table.drop('Unnamed: 0', axis = 1)\n",
    "scores_table['bleu_1'] = scores_table['bleu_1'].round(4)*100\n",
    "scores_table['bleu_2'] = scores_table['bleu_2'].round(4)*100\n",
    "scores_table['bleu_3'] = scores_table['bleu_3'].round(4)*100\n",
    "scores_table['bleu_4'] = scores_table['bleu_4'].round(4)*100\n",
    "scores_table['BLEU_comb'] = scores_table['BLEU_comb'].round(4)*100\n",
    "scores_table['METEOR'] = scores_table['METEOR'].round(3)\n",
    "scores_table['ROUGE_L'] = scores_table['ROUGE_L'].round(3)\n",
    "scores_table['CLIPScore'] = scores_table['CLIPScore'].round(3)\n",
    "scores_table['REFCLIP_SCORE'] = scores_table['REFCLIP_SCORE'].round(3)\n",
    "scores_table"
   ]
  },
  {
   "cell_type": "code",
   "execution_count": 25,
   "metadata": {
    "ExecuteTime": {
     "end_time": "2021-12-26T19:37:00.146355Z",
     "start_time": "2021-12-26T19:37:00.118982Z"
    }
   },
   "outputs": [
    {
     "name": "stdout",
     "output_type": "stream",
     "text": [
      "\\begin{tabular}{lllrrrrrrrrr}\n",
      "\\toprule\n",
      "                            model & beam\\_size & similarity &  bleu\\_1 &  bleu\\_2 &  bleu\\_3 &  bleu\\_4 &  BLEU\\_comb &  METEOR &  ROUGE\\_L &  CLIPScore &  REFCLIP\\_SCORE \\\\\n",
      "\\midrule\n",
      "                VGG + Transformer &      None &       None &   58.53 &   28.27 &   12.13 &    5.54 &       9.37 &   0.383 &    0.334 &      0.641 &          0.707 \\\\\n",
      "       EfficientNet + Transformer &      None &       None &   62.01 &   31.66 &   14.05 &    6.43 &      10.83 &   0.411 &    0.355 &      0.683 &          0.743 \\\\\n",
      "             ResNet + Transformer &      None &       None &   59.92 &   29.84 &   12.87 &    5.71 &       9.77 &   0.397 &    0.342 &      0.660 &          0.722 \\\\\n",
      "         Mapping Network original &      None &       None &   71.93 &   38.73 &   20.17 &   10.63 &      18.45 &   0.514 &    0.370 &      0.755 &          0.797 \\\\\n",
      " Mapping Network max similarity 1 &         5 &     cosine &   71.52 &   37.83 &   19.16 &    9.61 &      17.35 &   0.512 &    0.370 &      0.786 &          0.816 \\\\\n",
      " Mapping Network max similarity 2 &        10 &     cosine &   67.72 &   35.69 &   17.75 &    8.73 &      15.94 &   0.500 &    0.359 &      0.791 &          0.816 \\\\\n",
      " Mapping Network max similarity 3 &        15 &     cosine &   64.52 &   33.75 &   16.48 &    8.00 &      14.73 &   0.492 &    0.349 &      0.790 &          0.815 \\\\\n",
      " Mapping Network max similarity 4 &        20 &     cosine &   61.79 &   32.18 &   15.78 &    7.64 &      14.21 &   0.483 &    0.340 &      0.788 &          0.813 \\\\\n",
      "\\bottomrule\n",
      "\\end{tabular}\n",
      "\n"
     ]
    }
   ],
   "source": [
    "print(scores_table[['model', 'beam_size', 'similarity', 'bleu_1', 'bleu_2', 'bleu_3', 'bleu_4', 'BLEU_comb', 'METEOR',\n",
    "                    'ROUGE_L', 'CLIPScore', 'REFCLIP_SCORE' ]].to_latex(index=False))"
   ]
  },
  {
   "cell_type": "code",
   "execution_count": null,
   "metadata": {},
   "outputs": [],
   "source": []
  }
 ],
 "metadata": {
  "kernelspec": {
   "display_name": "Python 3",
   "language": "python",
   "name": "python3"
  },
  "language_info": {
   "codemirror_mode": {
    "name": "ipython",
    "version": 3
   },
   "file_extension": ".py",
   "mimetype": "text/x-python",
   "name": "python",
   "nbconvert_exporter": "python",
   "pygments_lexer": "ipython3",
   "version": "3.8.5"
  },
  "toc": {
   "base_numbering": 1,
   "nav_menu": {},
   "number_sections": true,
   "sideBar": true,
   "skip_h1_title": false,
   "title_cell": "Table of Contents",
   "title_sidebar": "Contents",
   "toc_cell": false,
   "toc_position": {},
   "toc_section_display": true,
   "toc_window_display": false
  },
  "varInspector": {
   "cols": {
    "lenName": 16,
    "lenType": 16,
    "lenVar": 40
   },
   "kernels_config": {
    "python": {
     "delete_cmd_postfix": "",
     "delete_cmd_prefix": "del ",
     "library": "var_list.py",
     "varRefreshCmd": "print(var_dic_list())"
    },
    "r": {
     "delete_cmd_postfix": ") ",
     "delete_cmd_prefix": "rm(",
     "library": "var_list.r",
     "varRefreshCmd": "cat(var_dic_list()) "
    }
   },
   "types_to_exclude": [
    "module",
    "function",
    "builtin_function_or_method",
    "instance",
    "_Feature"
   ],
   "window_display": false
  }
 },
 "nbformat": 4,
 "nbformat_minor": 4
}
