{
 "cells": [
  {
   "cell_type": "code",
   "execution_count": 65,
   "metadata": {
    "ExecuteTime": {
     "end_time": "2022-03-01T11:13:27.520698Z",
     "start_time": "2022-03-01T11:13:27.508697Z"
    }
   },
   "outputs": [],
   "source": [
    "import pandas as pd\n",
    "import os\n",
    "import json\n",
    "from os import walk\n",
    "import re\n",
    "import ast"
   ]
  },
  {
   "cell_type": "code",
   "execution_count": 68,
   "metadata": {
    "ExecuteTime": {
     "end_time": "2022-03-01T11:14:23.515652Z",
     "start_time": "2022-03-01T11:14:23.158249Z"
    }
   },
   "outputs": [],
   "source": [
    "all_dfs = None\n",
    "for (dirpath, dirnames, filenames) in walk('./'):\n",
    "    for f in filenames:\n",
    "        if 'csv' in f:\n",
    "            n = int(re.findall('gamma_\\d+', f)[0].replace('gamma_', ''))\n",
    "            beta = float(re.findall('beta_\\d+.\\d+', f)[0].replace('beta_', ''))\n",
    "            df = pd.read_csv(f)\n",
    "            df = pd.DataFrame({'CLIPScore': ast.literal_eval(df['CLIPScore'][0]), \n",
    "                               'REFCLIP_SCORE': ast.literal_eval(df['REFCLIP_SCORE'][0])})\n",
    "            df['Group'] = 'Beta_{:.3}_N_{}'.format(beta, n)\n",
    "            if all_dfs is None:\n",
    "                all_dfs = df\n",
    "            else:\n",
    "                all_dfs = pd.concat([all_dfs, df])"
   ]
  },
  {
   "cell_type": "code",
   "execution_count": 69,
   "metadata": {
    "ExecuteTime": {
     "end_time": "2022-03-01T11:14:29.651320Z",
     "start_time": "2022-03-01T11:14:29.624235Z"
    }
   },
   "outputs": [
    {
     "data": {
      "text/html": [
       "<div>\n",
       "<style scoped>\n",
       "    .dataframe tbody tr th:only-of-type {\n",
       "        vertical-align: middle;\n",
       "    }\n",
       "\n",
       "    .dataframe tbody tr th {\n",
       "        vertical-align: top;\n",
       "    }\n",
       "\n",
       "    .dataframe thead th {\n",
       "        text-align: right;\n",
       "    }\n",
       "</style>\n",
       "<table border=\"1\" class=\"dataframe\">\n",
       "  <thead>\n",
       "    <tr style=\"text-align: right;\">\n",
       "      <th></th>\n",
       "      <th>CLIPScore</th>\n",
       "      <th>REFCLIP_SCORE</th>\n",
       "      <th>Group</th>\n",
       "    </tr>\n",
       "  </thead>\n",
       "  <tbody>\n",
       "    <tr>\n",
       "      <th>0</th>\n",
       "      <td>0.861930</td>\n",
       "      <td>0.892715</td>\n",
       "      <td>Beta_0.0_N_10</td>\n",
       "    </tr>\n",
       "    <tr>\n",
       "      <th>1</th>\n",
       "      <td>0.921509</td>\n",
       "      <td>0.871783</td>\n",
       "      <td>Beta_0.0_N_10</td>\n",
       "    </tr>\n",
       "    <tr>\n",
       "      <th>2</th>\n",
       "      <td>0.923912</td>\n",
       "      <td>0.882280</td>\n",
       "      <td>Beta_0.0_N_10</td>\n",
       "    </tr>\n",
       "    <tr>\n",
       "      <th>3</th>\n",
       "      <td>0.855544</td>\n",
       "      <td>0.856969</td>\n",
       "      <td>Beta_0.0_N_10</td>\n",
       "    </tr>\n",
       "    <tr>\n",
       "      <th>4</th>\n",
       "      <td>0.866828</td>\n",
       "      <td>0.800247</td>\n",
       "      <td>Beta_0.0_N_10</td>\n",
       "    </tr>\n",
       "    <tr>\n",
       "      <th>...</th>\n",
       "      <td>...</td>\n",
       "      <td>...</td>\n",
       "      <td>...</td>\n",
       "    </tr>\n",
       "    <tr>\n",
       "      <th>145</th>\n",
       "      <td>0.775203</td>\n",
       "      <td>0.799647</td>\n",
       "      <td>Beta_1.0_N_5</td>\n",
       "    </tr>\n",
       "    <tr>\n",
       "      <th>146</th>\n",
       "      <td>0.778371</td>\n",
       "      <td>0.832629</td>\n",
       "      <td>Beta_1.0_N_5</td>\n",
       "    </tr>\n",
       "    <tr>\n",
       "      <th>147</th>\n",
       "      <td>0.764740</td>\n",
       "      <td>0.848022</td>\n",
       "      <td>Beta_1.0_N_5</td>\n",
       "    </tr>\n",
       "    <tr>\n",
       "      <th>148</th>\n",
       "      <td>0.765630</td>\n",
       "      <td>0.835512</td>\n",
       "      <td>Beta_1.0_N_5</td>\n",
       "    </tr>\n",
       "    <tr>\n",
       "      <th>149</th>\n",
       "      <td>0.697954</td>\n",
       "      <td>0.789318</td>\n",
       "      <td>Beta_1.0_N_5</td>\n",
       "    </tr>\n",
       "  </tbody>\n",
       "</table>\n",
       "<p>18900 rows × 3 columns</p>\n",
       "</div>"
      ],
      "text/plain": [
       "     CLIPScore  REFCLIP_SCORE          Group\n",
       "0     0.861930       0.892715  Beta_0.0_N_10\n",
       "1     0.921509       0.871783  Beta_0.0_N_10\n",
       "2     0.923912       0.882280  Beta_0.0_N_10\n",
       "3     0.855544       0.856969  Beta_0.0_N_10\n",
       "4     0.866828       0.800247  Beta_0.0_N_10\n",
       "..         ...            ...            ...\n",
       "145   0.775203       0.799647   Beta_1.0_N_5\n",
       "146   0.778371       0.832629   Beta_1.0_N_5\n",
       "147   0.764740       0.848022   Beta_1.0_N_5\n",
       "148   0.765630       0.835512   Beta_1.0_N_5\n",
       "149   0.697954       0.789318   Beta_1.0_N_5\n",
       "\n",
       "[18900 rows x 3 columns]"
      ]
     },
     "execution_count": 69,
     "metadata": {},
     "output_type": "execute_result"
    }
   ],
   "source": [
    "all_dfs"
   ]
  },
  {
   "cell_type": "code",
   "execution_count": 70,
   "metadata": {
    "ExecuteTime": {
     "end_time": "2022-03-01T11:15:17.238338Z",
     "start_time": "2022-03-01T11:15:17.147867Z"
    }
   },
   "outputs": [],
   "source": [
    "all_dfs.to_csv('comparison_df.csv', index = False)"
   ]
  }
 ],
 "metadata": {
  "kernelspec": {
   "display_name": "Python 3",
   "language": "python",
   "name": "python3"
  },
  "language_info": {
   "codemirror_mode": {
    "name": "ipython",
    "version": 3
   },
   "file_extension": ".py",
   "mimetype": "text/x-python",
   "name": "python",
   "nbconvert_exporter": "python",
   "pygments_lexer": "ipython3",
   "version": "3.8.5"
  },
  "toc": {
   "base_numbering": 1,
   "nav_menu": {},
   "number_sections": true,
   "sideBar": true,
   "skip_h1_title": false,
   "title_cell": "Table of Contents",
   "title_sidebar": "Contents",
   "toc_cell": false,
   "toc_position": {},
   "toc_section_display": true,
   "toc_window_display": false
  },
  "varInspector": {
   "cols": {
    "lenName": 16,
    "lenType": 16,
    "lenVar": 40
   },
   "kernels_config": {
    "python": {
     "delete_cmd_postfix": "",
     "delete_cmd_prefix": "del ",
     "library": "var_list.py",
     "varRefreshCmd": "print(var_dic_list())"
    },
    "r": {
     "delete_cmd_postfix": ") ",
     "delete_cmd_prefix": "rm(",
     "library": "var_list.r",
     "varRefreshCmd": "cat(var_dic_list()) "
    }
   },
   "types_to_exclude": [
    "module",
    "function",
    "builtin_function_or_method",
    "instance",
    "_Feature"
   ],
   "window_display": false
  }
 },
 "nbformat": 4,
 "nbformat_minor": 4
}
