{
 "cells": [
  {
   "cell_type": "code",
   "execution_count": 2,
   "metadata": {
    "ExecuteTime": {
     "end_time": "2022-03-01T15:52:38.930811Z",
     "start_time": "2022-03-01T15:52:38.904608Z"
    }
   },
   "outputs": [],
   "source": [
    "import pandas as pd\n",
    "import os\n",
    "import json\n",
    "from os import walk\n",
    "import re\n",
    "import ast\n",
    "import bleu"
   ]
  },
  {
   "cell_type": "code",
   "execution_count": 15,
   "metadata": {
    "ExecuteTime": {
     "end_time": "2022-03-01T16:19:21.969825Z",
     "start_time": "2022-03-01T16:19:05.306311Z"
    }
   },
   "outputs": [],
   "source": [
    "df_bleu = []\n",
    "for (dirpath, dirnames, filenames) in walk('./'):\n",
    "    for f in filenames:\n",
    "        if 'modified_greedy_approach_karpathy_test_predictions' in f:\n",
    "            n = int(re.findall('gamma_\\d+', f)[0].replace('gamma_', ''))\n",
    "            beta = float(re.findall('beta_\\d+.\\d+', f)[0].replace('beta_', ''))\n",
    "            df = pd.read_csv(f)\n",
    "            gts = {}\n",
    "            res = {}\n",
    "            for i, r in df.iterrows():\n",
    "                gts[i] = list(r[['caption 1', 'caption 2', 'caption 3', 'caption 4', 'caption 5']].values)\n",
    "                res[i] = [r['prediction']]\n",
    "            bleu_score, _ = bleu.Bleu(n = 4).compute_score(gts, res, verbose = 0)\n",
    "            df_bleu.append([n, beta, bleu_score[0], bleu_score[1], bleu_score[2], bleu_score[3]])"
   ]
  },
  {
   "cell_type": "code",
   "execution_count": 16,
   "metadata": {
    "ExecuteTime": {
     "end_time": "2022-03-01T16:19:23.343642Z",
     "start_time": "2022-03-01T16:19:23.332758Z"
    }
   },
   "outputs": [],
   "source": [
    "df_bleu = pd.DataFrame(df_bleu, columns = ['n', 'beta', 'bleu 1', 'bleu 2', 'bleu 3', 'bleu 4'])"
   ]
  },
  {
   "cell_type": "code",
   "execution_count": 17,
   "metadata": {
    "ExecuteTime": {
     "end_time": "2022-03-01T16:19:31.079485Z",
     "start_time": "2022-03-01T16:19:31.067486Z"
    }
   },
   "outputs": [
    {
     "data": {
      "text/html": [
       "<div>\n",
       "<style scoped>\n",
       "    .dataframe tbody tr th:only-of-type {\n",
       "        vertical-align: middle;\n",
       "    }\n",
       "\n",
       "    .dataframe tbody tr th {\n",
       "        vertical-align: top;\n",
       "    }\n",
       "\n",
       "    .dataframe thead th {\n",
       "        text-align: right;\n",
       "    }\n",
       "</style>\n",
       "<table border=\"1\" class=\"dataframe\">\n",
       "  <thead>\n",
       "    <tr style=\"text-align: right;\">\n",
       "      <th></th>\n",
       "      <th>n</th>\n",
       "      <th>beta</th>\n",
       "      <th>bleu 1</th>\n",
       "      <th>bleu 2</th>\n",
       "      <th>bleu 3</th>\n",
       "      <th>bleu 4</th>\n",
       "    </tr>\n",
       "  </thead>\n",
       "  <tbody>\n",
       "    <tr>\n",
       "      <th>0</th>\n",
       "      <td>10</td>\n",
       "      <td>0.00</td>\n",
       "      <td>0.284961</td>\n",
       "      <td>0.115608</td>\n",
       "      <td>0.039296</td>\n",
       "      <td>0.000002</td>\n",
       "    </tr>\n",
       "    <tr>\n",
       "      <th>1</th>\n",
       "      <td>10</td>\n",
       "      <td>0.05</td>\n",
       "      <td>0.685090</td>\n",
       "      <td>0.502881</td>\n",
       "      <td>0.357538</td>\n",
       "      <td>0.254175</td>\n",
       "    </tr>\n",
       "    <tr>\n",
       "      <th>2</th>\n",
       "      <td>10</td>\n",
       "      <td>0.10</td>\n",
       "      <td>0.797627</td>\n",
       "      <td>0.651624</td>\n",
       "      <td>0.530334</td>\n",
       "      <td>0.431750</td>\n",
       "    </tr>\n",
       "    <tr>\n",
       "      <th>3</th>\n",
       "      <td>10</td>\n",
       "      <td>0.15</td>\n",
       "      <td>0.809392</td>\n",
       "      <td>0.682500</td>\n",
       "      <td>0.566474</td>\n",
       "      <td>0.465142</td>\n",
       "    </tr>\n",
       "    <tr>\n",
       "      <th>4</th>\n",
       "      <td>10</td>\n",
       "      <td>0.20</td>\n",
       "      <td>0.813315</td>\n",
       "      <td>0.690859</td>\n",
       "      <td>0.576721</td>\n",
       "      <td>0.476221</td>\n",
       "    </tr>\n",
       "  </tbody>\n",
       "</table>\n",
       "</div>"
      ],
      "text/plain": [
       "    n  beta    bleu 1    bleu 2    bleu 3    bleu 4\n",
       "0  10  0.00  0.284961  0.115608  0.039296  0.000002\n",
       "1  10  0.05  0.685090  0.502881  0.357538  0.254175\n",
       "2  10  0.10  0.797627  0.651624  0.530334  0.431750\n",
       "3  10  0.15  0.809392  0.682500  0.566474  0.465142\n",
       "4  10  0.20  0.813315  0.690859  0.576721  0.476221"
      ]
     },
     "execution_count": 17,
     "metadata": {},
     "output_type": "execute_result"
    }
   ],
   "source": [
    "df_bleu.head()"
   ]
  },
  {
   "cell_type": "code",
   "execution_count": 18,
   "metadata": {
    "ExecuteTime": {
     "end_time": "2022-03-01T16:19:37.634501Z",
     "start_time": "2022-03-01T16:19:37.622642Z"
    }
   },
   "outputs": [],
   "source": [
    "df_bleu.to_csv('bleu_metrics.csv')"
   ]
  },
  {
   "cell_type": "code",
   "execution_count": null,
   "metadata": {},
   "outputs": [],
   "source": []
  }
 ],
 "metadata": {
  "kernelspec": {
   "display_name": "Python 3",
   "language": "python",
   "name": "python3"
  },
  "language_info": {
   "codemirror_mode": {
    "name": "ipython",
    "version": 3
   },
   "file_extension": ".py",
   "mimetype": "text/x-python",
   "name": "python",
   "nbconvert_exporter": "python",
   "pygments_lexer": "ipython3",
   "version": "3.8.5"
  },
  "toc": {
   "base_numbering": 1,
   "nav_menu": {},
   "number_sections": true,
   "sideBar": true,
   "skip_h1_title": false,
   "title_cell": "Table of Contents",
   "title_sidebar": "Contents",
   "toc_cell": false,
   "toc_position": {},
   "toc_section_display": true,
   "toc_window_display": false
  },
  "varInspector": {
   "cols": {
    "lenName": 16,
    "lenType": 16,
    "lenVar": 40
   },
   "kernels_config": {
    "python": {
     "delete_cmd_postfix": "",
     "delete_cmd_prefix": "del ",
     "library": "var_list.py",
     "varRefreshCmd": "print(var_dic_list())"
    },
    "r": {
     "delete_cmd_postfix": ") ",
     "delete_cmd_prefix": "rm(",
     "library": "var_list.r",
     "varRefreshCmd": "cat(var_dic_list()) "
    }
   },
   "types_to_exclude": [
    "module",
    "function",
    "builtin_function_or_method",
    "instance",
    "_Feature"
   ],
   "window_display": false
  }
 },
 "nbformat": 4,
 "nbformat_minor": 4
}
