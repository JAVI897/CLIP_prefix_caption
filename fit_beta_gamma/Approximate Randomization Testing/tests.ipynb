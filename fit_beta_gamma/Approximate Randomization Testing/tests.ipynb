{
 "cells": [
  {
   "cell_type": "code",
   "execution_count": 1,
   "metadata": {
    "ExecuteTime": {
     "end_time": "2022-03-20T16:41:29.054867Z",
     "start_time": "2022-03-20T16:41:28.771847Z"
    }
   },
   "outputs": [],
   "source": [
    "import os\n",
    "from art import aggregators\n",
    "from art import scores\n",
    "from art import significance_tests\n",
    "import pandas as pd\n",
    "import ast"
   ]
  },
  {
   "cell_type": "code",
   "execution_count": 2,
   "metadata": {
    "ExecuteTime": {
     "end_time": "2022-03-20T16:41:29.596859Z",
     "start_time": "2022-03-20T16:41:29.560503Z"
    }
   },
   "outputs": [],
   "source": [
    "beta_10_N_25 = pd.read_csv('all_scores_modified_greedy_approach_karpathy_test_metrics_gamma_20_beta_0.1.csv')['REFCLIP_SCORE']\n",
    "beta_10_N_20 = pd.read_csv('all_scores_modified_greedy_approach_karpathy_test_metrics_gamma_25_beta_0.1.csv')['REFCLIP_SCORE']\n",
    "beta_05_N_30 = pd.read_csv('all_scores_modified_greedy_approach_karpathy_test_metrics_gamma_30_beta_0.05.csv')['REFCLIP_SCORE']\n",
    "\n",
    "beta_10_N_25 = ast.literal_eval(beta_10_N_25.values[0])\n",
    "beta_10_N_20 = ast.literal_eval(beta_10_N_20.values[0])\n",
    "beta_05_N_30 = ast.literal_eval(beta_05_N_30.values[0])\n",
    "\n",
    "# convert to score\n",
    "beta_10_N_25 = [scores.Score([i]) for i in beta_10_N_25]\n",
    "beta_10_N_20 = [scores.Score([i]) for i in beta_10_N_20]\n",
    "beta_05_N_30 = [scores.Score([i]) for i in beta_05_N_30]"
   ]
  },
  {
   "cell_type": "markdown",
   "metadata": {},
   "source": [
    "**0.05-30 vs 0.1-20**"
   ]
  },
  {
   "cell_type": "code",
   "execution_count": 3,
   "metadata": {
    "ExecuteTime": {
     "end_time": "2022-03-20T16:41:32.513466Z",
     "start_time": "2022-03-20T16:41:30.484752Z"
    }
   },
   "outputs": [],
   "source": [
    "test = significance_tests.ApproximateRandomizationTest(\n",
    "                                                        scores.Scores(scores = beta_05_N_30),\n",
    "                                                        scores.Scores(scores = beta_10_N_20),\n",
    "                                                        aggregators.average,\n",
    "                                                        trials=10000)\n",
    "p_value_1 = test.run()"
   ]
  },
  {
   "cell_type": "code",
   "execution_count": 4,
   "metadata": {
    "ExecuteTime": {
     "end_time": "2022-03-20T16:41:33.088508Z",
     "start_time": "2022-03-20T16:41:33.069420Z"
    }
   },
   "outputs": [
    {
     "data": {
      "text/plain": [
       "0.815918408159184"
      ]
     },
     "execution_count": 4,
     "metadata": {},
     "output_type": "execute_result"
    }
   ],
   "source": [
    "p_value_1"
   ]
  },
  {
   "cell_type": "markdown",
   "metadata": {},
   "source": [
    "**0.05-30 vs 0.1-25**"
   ]
  },
  {
   "cell_type": "code",
   "execution_count": 5,
   "metadata": {
    "ExecuteTime": {
     "end_time": "2022-03-20T16:41:35.972392Z",
     "start_time": "2022-03-20T16:41:33.921394Z"
    }
   },
   "outputs": [],
   "source": [
    "test = significance_tests.ApproximateRandomizationTest(\n",
    "                                                        scores.Scores(scores = beta_05_N_30),\n",
    "                                                        scores.Scores(scores = beta_10_N_25),\n",
    "                                                        aggregators.average,\n",
    "                                                        trials=10000)\n",
    "p_value_2 = test.run()"
   ]
  },
  {
   "cell_type": "code",
   "execution_count": 6,
   "metadata": {
    "ExecuteTime": {
     "end_time": "2022-03-20T16:41:36.575378Z",
     "start_time": "2022-03-20T16:41:36.557025Z"
    }
   },
   "outputs": [
    {
     "data": {
      "text/plain": [
       "0.8077192280771923"
      ]
     },
     "execution_count": 6,
     "metadata": {},
     "output_type": "execute_result"
    }
   ],
   "source": [
    "p_value_2"
   ]
  },
  {
   "cell_type": "markdown",
   "metadata": {},
   "source": [
    "**0.1-20 vs 0.1-25**"
   ]
  },
  {
   "cell_type": "code",
   "execution_count": 7,
   "metadata": {
    "ExecuteTime": {
     "end_time": "2022-03-20T16:41:39.423845Z",
     "start_time": "2022-03-20T16:41:37.366097Z"
    }
   },
   "outputs": [],
   "source": [
    "test = significance_tests.ApproximateRandomizationTest(\n",
    "                                                        scores.Scores(scores = beta_10_N_20),\n",
    "                                                        scores.Scores(scores = beta_10_N_25),\n",
    "                                                        aggregators.average,\n",
    "                                                        trials=10000)\n",
    "p_value_3 = test.run()"
   ]
  },
  {
   "cell_type": "code",
   "execution_count": 8,
   "metadata": {
    "ExecuteTime": {
     "end_time": "2022-03-20T16:41:41.542632Z",
     "start_time": "2022-03-20T16:41:41.521238Z"
    }
   },
   "outputs": [
    {
     "data": {
      "text/plain": [
       "0.9809019098090191"
      ]
     },
     "execution_count": 8,
     "metadata": {},
     "output_type": "execute_result"
    }
   ],
   "source": [
    "p_value_3"
   ]
  },
  {
   "cell_type": "markdown",
   "metadata": {},
   "source": [
    "**Plots**"
   ]
  },
  {
   "cell_type": "code",
   "execution_count": 9,
   "metadata": {
    "ExecuteTime": {
     "end_time": "2022-03-20T16:41:43.068862Z",
     "start_time": "2022-03-20T16:41:42.484379Z"
    }
   },
   "outputs": [],
   "source": [
    "from matplotlib import pyplot as plt\n",
    "from pylab import rcParams\n",
    "rcParams['figure.figsize'] = 10,10 \n",
    "import seaborn as sns\n",
    "import numpy as np\n",
    "from heatmap import heatmap\n",
    "sns.set(color_codes=True, font_scale=1.2)\n",
    "\n",
    "%matplotlib inline\n",
    "%config InlineBackend.figure_format = 'retina'\n",
    "%load_ext autoreload\n",
    "%autoreload 2"
   ]
  },
  {
   "cell_type": "code",
   "execution_count": 72,
   "metadata": {
    "ExecuteTime": {
     "end_time": "2022-03-20T17:03:54.033621Z",
     "start_time": "2022-03-20T17:03:53.974284Z"
    }
   },
   "outputs": [],
   "source": [
    "def plot_matrix(data, title):\n",
    "    corr = pd.melt(data.reset_index(), id_vars='index')\n",
    "    corr.columns = ['x', 'y', 'value']\n",
    "    heatmap(\n",
    "            corr['x'], corr['y'],\n",
    "            color=corr['value'], color_range=[-0.9, 1],\n",
    "            palette=sns.diverging_palette(12, 120, n=256),\n",
    "            size=corr['value'].abs(), size_range=[0.5,1],\n",
    "            marker='o',\n",
    "            x_order=data.columns,\n",
    "            y_order=data.columns[::-1],\n",
    "            size_scale=5000\n",
    "    )\n",
    "    plt.title(title, loc = 'right')\n",
    "    plt.savefig(title, bbox_inches='tight', dpi = 150)"
   ]
  },
  {
   "cell_type": "code",
   "execution_count": 73,
   "metadata": {
    "ExecuteTime": {
     "end_time": "2022-03-20T17:03:54.592698Z",
     "start_time": "2022-03-20T17:03:54.512973Z"
    }
   },
   "outputs": [],
   "source": [
    "array_pvalues = np.array([[0.25, p_value_1, p_value_2],\n",
    "                                  [0.05, 0.25, p_value_3],\n",
    "                                  [0.05, 0.05, 0.25]])\n",
    "\n",
    "matrix_df = pd.DataFrame(array_pvalues, \n",
    "         columns = [r'$\\beta$ = 0.05, $N$ = 30', r'$\\beta$ = 0.10, $N$ = 20', r'$\\beta$ = 0.10, $N$ = 25'],\n",
    "           index = [r'$\\beta$ = 0.05, $N$ = 30', r'$\\beta$ = 0.10, $N$ = 20', r'$\\beta$ = 0.10, $N$ = 25'])"
   ]
  },
  {
   "cell_type": "code",
   "execution_count": 74,
   "metadata": {
    "ExecuteTime": {
     "end_time": "2022-03-20T17:03:55.087532Z",
     "start_time": "2022-03-20T17:03:55.014269Z"
    }
   },
   "outputs": [
    {
     "data": {
      "text/html": [
       "<div>\n",
       "<style scoped>\n",
       "    .dataframe tbody tr th:only-of-type {\n",
       "        vertical-align: middle;\n",
       "    }\n",
       "\n",
       "    .dataframe tbody tr th {\n",
       "        vertical-align: top;\n",
       "    }\n",
       "\n",
       "    .dataframe thead th {\n",
       "        text-align: right;\n",
       "    }\n",
       "</style>\n",
       "<table border=\"1\" class=\"dataframe\">\n",
       "  <thead>\n",
       "    <tr style=\"text-align: right;\">\n",
       "      <th></th>\n",
       "      <th>$\\beta$ = 0.05, $N$ = 30</th>\n",
       "      <th>$\\beta$ = 0.10, $N$ = 20</th>\n",
       "      <th>$\\beta$ = 0.10, $N$ = 25</th>\n",
       "    </tr>\n",
       "  </thead>\n",
       "  <tbody>\n",
       "    <tr>\n",
       "      <th>$\\beta$ = 0.05, $N$ = 30</th>\n",
       "      <td>0.25</td>\n",
       "      <td>0.815918</td>\n",
       "      <td>0.807719</td>\n",
       "    </tr>\n",
       "    <tr>\n",
       "      <th>$\\beta$ = 0.10, $N$ = 20</th>\n",
       "      <td>0.05</td>\n",
       "      <td>0.250000</td>\n",
       "      <td>0.980902</td>\n",
       "    </tr>\n",
       "    <tr>\n",
       "      <th>$\\beta$ = 0.10, $N$ = 25</th>\n",
       "      <td>0.05</td>\n",
       "      <td>0.050000</td>\n",
       "      <td>0.250000</td>\n",
       "    </tr>\n",
       "  </tbody>\n",
       "</table>\n",
       "</div>"
      ],
      "text/plain": [
       "                          $\\beta$ = 0.05, $N$ = 30  $\\beta$ = 0.10, $N$ = 20  \\\n",
       "$\\beta$ = 0.05, $N$ = 30                      0.25                  0.815918   \n",
       "$\\beta$ = 0.10, $N$ = 20                      0.05                  0.250000   \n",
       "$\\beta$ = 0.10, $N$ = 25                      0.05                  0.050000   \n",
       "\n",
       "                          $\\beta$ = 0.10, $N$ = 25  \n",
       "$\\beta$ = 0.05, $N$ = 30                  0.807719  \n",
       "$\\beta$ = 0.10, $N$ = 20                  0.980902  \n",
       "$\\beta$ = 0.10, $N$ = 25                  0.250000  "
      ]
     },
     "execution_count": 74,
     "metadata": {},
     "output_type": "execute_result"
    }
   ],
   "source": [
    "matrix_df"
   ]
  },
  {
   "cell_type": "code",
   "execution_count": 75,
   "metadata": {
    "ExecuteTime": {
     "end_time": "2022-03-20T17:03:56.385303Z",
     "start_time": "2022-03-20T17:03:55.438630Z"
    }
   },
   "outputs": [
    {
     "data": {
      "image/png": "[encoded data removed]",
      "text/plain": [
       "<Figure size 504x504 with 2 Axes>"
      ]
     },
     "metadata": {
      "image/png": {
       "height": 496,
       "width": 551
      }
     },
     "output_type": "display_data"
    }
   ],
   "source": [
    "with plt.style.context('science'):\n",
    "    sns.set_style('white', {\"grid.color\": \"0\", \"grid.linestyle\": \":\", \"grid.color\": 'black',\n",
    "                        'axes.facecolor': '#FFFFFF'})\n",
    "    fig = plt.figure(figsize=(7,7), facecolor=(1, 1, 1))\n",
    "    plot_matrix(matrix_df, 'p-values RefClipScore metric')\n",
    "    plt.grid(False)"
   ]
  },
  {
   "cell_type": "code",
   "execution_count": null,
   "metadata": {},
   "outputs": [],
   "source": []
  }
 ],
 "metadata": {
  "kernelspec": {
   "display_name": "Python 3",
   "language": "python",
   "name": "python3"
  },
  "language_info": {
   "codemirror_mode": {
    "name": "ipython",
    "version": 3
   },
   "file_extension": ".py",
   "mimetype": "text/x-python",
   "name": "python",
   "nbconvert_exporter": "python",
   "pygments_lexer": "ipython3",
   "version": "3.8.5"
  },
  "toc": {
   "base_numbering": 1,
   "nav_menu": {},
   "number_sections": true,
   "sideBar": true,
   "skip_h1_title": false,
   "title_cell": "Table of Contents",
   "title_sidebar": "Contents",
   "toc_cell": false,
   "toc_position": {},
   "toc_section_display": true,
   "toc_window_display": false
  },
  "varInspector": {
   "cols": {
    "lenName": 16,
    "lenType": 16,
    "lenVar": 40
   },
   "kernels_config": {
    "python": {
     "delete_cmd_postfix": "",
     "delete_cmd_prefix": "del ",
     "library": "var_list.py",
     "varRefreshCmd": "print(var_dic_list())"
    },
    "r": {
     "delete_cmd_postfix": ") ",
     "delete_cmd_prefix": "rm(",
     "library": "var_list.r",
     "varRefreshCmd": "cat(var_dic_list()) "
    }
   },
   "types_to_exclude": [
    "module",
    "function",
    "builtin_function_or_method",
    "instance",
    "_Feature"
   ],
   "window_display": false
  }
 },
 "nbformat": 4,
 "nbformat_minor": 4
}
